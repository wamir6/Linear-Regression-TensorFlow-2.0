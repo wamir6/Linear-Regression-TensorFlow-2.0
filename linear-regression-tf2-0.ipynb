{
 "cells": [
  {
   "cell_type": "markdown",
   "metadata": {},
   "source": [
    "# Import relevant libraries "
   ]
  },
  {
   "cell_type": "code",
   "execution_count": 1,
   "metadata": {
    "_cell_guid": "79c7e3d0-c299-4dcb-8224-4455121ee9b0",
    "_uuid": "d629ff2d2480ee46fbb7e2d37f6b5fab8052498a"
   },
   "outputs": [],
   "source": [
    "import numpy as np \n",
    "import tensorflow as tf\n",
    "import matplotlib.pyplot as plt"
   ]
  },
  {
   "cell_type": "markdown",
   "metadata": {},
   "source": [
    "# Creating dataset and saving it"
   ]
  },
  {
   "cell_type": "code",
   "execution_count": 2,
   "metadata": {},
   "outputs": [],
   "source": [
    "observations=10000\n",
    "xs=np.random.uniform(-10,20,observations)\n",
    "zs=np.random.uniform(-20,25,observations)\n",
    "inputs=np.column_stack((xs,zs))\n",
    "noise=np.random.uniform(-1,1,observations)\n",
    "targets=2*xs-3*zs+4+noise\n",
    "targets=targets.reshape(10000,1).round(1)\n",
    "np.savez('data_set',input=inputs,target=targets)"
   ]
  },
  {
   "cell_type": "markdown",
   "metadata": {},
   "source": [
    "# Loading dataset file"
   ]
  },
  {
   "cell_type": "code",
   "execution_count": 3,
   "metadata": {},
   "outputs": [
    {
     "data": {
      "text/plain": [
       "(10000, 1)"
      ]
     },
     "execution_count": 3,
     "metadata": {},
     "output_type": "execute_result"
    }
   ],
   "source": [
    "data_set=np.load('data_set.npz')\n",
    "data_set['target'].shape"
   ]
  },
  {
   "cell_type": "markdown",
   "metadata": {},
   "source": [
    "# Creating, customizing & training the model"
   ]
  },
  {
   "cell_type": "code",
   "execution_count": 4,
   "metadata": {},
   "outputs": [
    {
     "name": "stdout",
     "output_type": "stream",
     "text": [
      "Train on 10000 samples\n",
      "Epoch 1/10\n",
      "10000/10000 - 1s - loss: 13.1543\n",
      "Epoch 2/10\n",
      "10000/10000 - 0s - loss: 1.2269\n",
      "Epoch 3/10\n",
      "10000/10000 - 0s - loss: 0.4864\n",
      "Epoch 4/10\n",
      "10000/10000 - 1s - loss: 0.3653\n",
      "Epoch 5/10\n",
      "10000/10000 - 0s - loss: 0.3464\n",
      "Epoch 6/10\n",
      "10000/10000 - 0s - loss: 0.3436\n",
      "Epoch 7/10\n",
      "10000/10000 - 0s - loss: 0.3417\n",
      "Epoch 8/10\n",
      "10000/10000 - 0s - loss: 0.3436\n",
      "Epoch 9/10\n",
      "10000/10000 - 0s - loss: 0.3429\n",
      "Epoch 10/10\n",
      "10000/10000 - 0s - loss: 0.3440\n"
     ]
    },
    {
     "data": {
      "text/plain": [
       "<tensorflow.python.keras.callbacks.History at 0x7f55344b8b70>"
      ]
     },
     "execution_count": 4,
     "metadata": {},
     "output_type": "execute_result"
    }
   ],
   "source": [
    "input_size=2\n",
    "output_size=1\n",
    "\n",
    "model=tf.keras.Sequential([\n",
    "    tf.keras.layers.Dense(output_size,\n",
    "                         kernel_initializer=tf.random_uniform_initializer(-0.1,0.1),\n",
    "                         bias_initializer=tf.random_uniform_initializer(-0.1,0.1),\n",
    "                         )\n",
    "])\n",
    "\n",
    "custom_optimizer=tf.keras.optimizers.SGD(learning_rate=0.002)\n",
    "model.compile(custom_optimizer,'mean_squared_error')\n",
    "model.fit(data_set['input'],data_set['target'],epochs=10,verbose=2)"
   ]
  },
  {
   "cell_type": "code",
   "execution_count": 5,
   "metadata": {},
   "outputs": [
    {
     "data": {
      "text/plain": [
       "array([[ 1.9966239],\n",
       "       [-3.003393 ]], dtype=float32)"
      ]
     },
     "execution_count": 5,
     "metadata": {},
     "output_type": "execute_result"
    }
   ],
   "source": [
    "weights=model.layers[0].get_weights()[0]\n",
    "biases=model.layers[0].get_weights()[1]\n",
    "weights"
   ]
  },
  {
   "cell_type": "code",
   "execution_count": 6,
   "metadata": {},
   "outputs": [
    {
     "data": {
      "text/plain": [
       "array([4.011474], dtype=float32)"
      ]
     },
     "execution_count": 6,
     "metadata": {},
     "output_type": "execute_result"
    }
   ],
   "source": [
    "biases"
   ]
  },
  {
   "cell_type": "markdown",
   "metadata": {},
   "source": [
    "# Printing what our model predicts and comparing it with calculated targets"
   ]
  },
  {
   "cell_type": "code",
   "execution_count": 7,
   "metadata": {},
   "outputs": [
    {
     "data": {
      "text/plain": [
       "array([[ 11.6],\n",
       "       [-63. ],\n",
       "       [-32.7],\n",
       "       ...,\n",
       "       [-27.1],\n",
       "       [ -0.1],\n",
       "       [ 63.1]], dtype=float32)"
      ]
     },
     "execution_count": 7,
     "metadata": {},
     "output_type": "execute_result"
    }
   ],
   "source": [
    "predict=np.array(model.predict_on_batch(data_set['input']))\n",
    "predict.round(1)"
   ]
  },
  {
   "cell_type": "markdown",
   "metadata": {},
   "source": [
    "# Printing Targets"
   ]
  },
  {
   "cell_type": "code",
   "execution_count": 8,
   "metadata": {},
   "outputs": [
    {
     "data": {
      "text/plain": [
       "array([[ 11.6],\n",
       "       [-63. ],\n",
       "       [-33.5],\n",
       "       ...,\n",
       "       [-27.6],\n",
       "       [ -1.1],\n",
       "       [ 63.8]])"
      ]
     },
     "execution_count": 8,
     "metadata": {},
     "output_type": "execute_result"
    }
   ],
   "source": [
    "data_set['target']"
   ]
  },
  {
   "cell_type": "code",
   "execution_count": 9,
   "metadata": {},
   "outputs": [
    {
     "data": {
      "image/png": "[encoded data removed]",
      "text/plain": [
       "<Figure size 432x288 with 1 Axes>"
      ]
     },
     "metadata": {
      "needs_background": "light"
     },
     "output_type": "display_data"
    }
   ],
   "source": [
    "plt.plot(np.squeeze(model.predict_on_batch(data_set['input'])),np.squeeze(data_set['target']))\n",
    "plt.xlabel('Inputs')\n",
    "plt.ylabel('Targets')\n",
    "plt.show()"
   ]
  }
 ],
 "metadata": {
  "kernelspec": {
   "display_name": "Python 3",
   "language": "python",
   "name": "python3"
  },
  "language_info": {
   "codemirror_mode": {
    "name": "ipython",
    "version": 3
   },
   "file_extension": ".py",
   "mimetype": "text/x-python",
   "name": "python",
   "nbconvert_exporter": "python",
   "pygments_lexer": "ipython3",
   "version": "3.6.6"
  }
 },
 "nbformat": 4,
 "nbformat_minor": 1
}
